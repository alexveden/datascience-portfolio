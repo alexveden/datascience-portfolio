{
 "cells": [
  {
   "cell_type": "markdown",
   "metadata": {},
   "source": [
    "# Stage 1: Dataset overview\n",
    "\n",
    "\n",
    "In this stage of the project, we are going to explore the dataset to understand the structure and data-types of the features. This step helps us to determine the main problems of the dataset, such as missing data-points, imbalance of the dataset, features scaling, etc. \n",
    "\n",
    "\n",
    "In this particular project, we are going to predict house prices using regression machine-learning methods.\n",
    "\n"
   ]
  },
  {
   "cell_type": "markdown",
   "metadata": {},
   "source": [
    "## Loading the dataset"
   ]
  },
  {
   "cell_type": "code",
   "execution_count": null,
   "metadata": {
    "collapsed": true
   },
   "outputs": [],
   "source": [
    "%load_ext autoreload\n",
    "%autoreload 2"
   ]
  },
  {
   "cell_type": "code",
   "execution_count": 2,
   "metadata": {},
   "outputs": [
    {
     "name": "stdout",
     "output_type": "stream",
     "text": [
      "Populating the interactive namespace from numpy and matplotlib\n"
     ]
    }
   ],
   "source": [
    "%pylab inline\n",
    "import pandas as pd\n",
    "import seaborn as sns\n",
    "\n",
    "# This module is not included into the sample project\n",
    "from vizualization import *\n",
    "\n",
    "# Set seaborn styles\n",
    "sns.set()"
   ]
  },
  {
   "cell_type": "code",
   "execution_count": 3,
   "metadata": {
    "collapsed": true
   },
   "outputs": [],
   "source": [
    "dataset = pd.read_csv('data/house_prices.csv')"
   ]
  },
  {
   "cell_type": "code",
   "execution_count": 4,
   "metadata": {},
   "outputs": [
    {
     "data": {
      "text/html": [
       "<div>\n",
       "<style>\n",
       "    .dataframe thead tr:only-child th {\n",
       "        text-align: right;\n",
       "    }\n",
       "\n",
       "    .dataframe thead th {\n",
       "        text-align: left;\n",
       "    }\n",
       "\n",
       "    .dataframe tbody tr th {\n",
       "        vertical-align: top;\n",
       "    }\n",
       "</style>\n",
       "<table border=\"1\" class=\"dataframe\">\n",
       "  <thead>\n",
       "    <tr style=\"text-align: right;\">\n",
       "      <th></th>\n",
       "      <th>Id</th>\n",
       "      <th>MSSubClass</th>\n",
       "      <th>MSZoning</th>\n",
       "      <th>LotFrontage</th>\n",
       "      <th>LotArea</th>\n",
       "      <th>Street</th>\n",
       "      <th>Alley</th>\n",
       "      <th>LotShape</th>\n",
       "      <th>LandContour</th>\n",
       "      <th>Utilities</th>\n",
       "      <th>...</th>\n",
       "      <th>PoolArea</th>\n",
       "      <th>PoolQC</th>\n",
       "      <th>Fence</th>\n",
       "      <th>MiscFeature</th>\n",
       "      <th>MiscVal</th>\n",
       "      <th>MoSold</th>\n",
       "      <th>YrSold</th>\n",
       "      <th>SaleType</th>\n",
       "      <th>SaleCondition</th>\n",
       "      <th>SalePrice</th>\n",
       "    </tr>\n",
       "  </thead>\n",
       "  <tbody>\n",
       "    <tr>\n",
       "      <th>1455</th>\n",
       "      <td>1456</td>\n",
       "      <td>60</td>\n",
       "      <td>RL</td>\n",
       "      <td>62.0</td>\n",
       "      <td>7917</td>\n",
       "      <td>Pave</td>\n",
       "      <td>NaN</td>\n",
       "      <td>Reg</td>\n",
       "      <td>Lvl</td>\n",
       "      <td>AllPub</td>\n",
       "      <td>...</td>\n",
       "      <td>0</td>\n",
       "      <td>NaN</td>\n",
       "      <td>NaN</td>\n",
       "      <td>NaN</td>\n",
       "      <td>0</td>\n",
       "      <td>8</td>\n",
       "      <td>2007</td>\n",
       "      <td>WD</td>\n",
       "      <td>Normal</td>\n",
       "      <td>175000</td>\n",
       "    </tr>\n",
       "    <tr>\n",
       "      <th>1456</th>\n",
       "      <td>1457</td>\n",
       "      <td>20</td>\n",
       "      <td>RL</td>\n",
       "      <td>85.0</td>\n",
       "      <td>13175</td>\n",
       "      <td>Pave</td>\n",
       "      <td>NaN</td>\n",
       "      <td>Reg</td>\n",
       "      <td>Lvl</td>\n",
       "      <td>AllPub</td>\n",
       "      <td>...</td>\n",
       "      <td>0</td>\n",
       "      <td>NaN</td>\n",
       "      <td>MnPrv</td>\n",
       "      <td>NaN</td>\n",
       "      <td>0</td>\n",
       "      <td>2</td>\n",
       "      <td>2010</td>\n",
       "      <td>WD</td>\n",
       "      <td>Normal</td>\n",
       "      <td>210000</td>\n",
       "    </tr>\n",
       "    <tr>\n",
       "      <th>1457</th>\n",
       "      <td>1458</td>\n",
       "      <td>70</td>\n",
       "      <td>RL</td>\n",
       "      <td>66.0</td>\n",
       "      <td>9042</td>\n",
       "      <td>Pave</td>\n",
       "      <td>NaN</td>\n",
       "      <td>Reg</td>\n",
       "      <td>Lvl</td>\n",
       "      <td>AllPub</td>\n",
       "      <td>...</td>\n",
       "      <td>0</td>\n",
       "      <td>NaN</td>\n",
       "      <td>GdPrv</td>\n",
       "      <td>Shed</td>\n",
       "      <td>2500</td>\n",
       "      <td>5</td>\n",
       "      <td>2010</td>\n",
       "      <td>WD</td>\n",
       "      <td>Normal</td>\n",
       "      <td>266500</td>\n",
       "    </tr>\n",
       "    <tr>\n",
       "      <th>1458</th>\n",
       "      <td>1459</td>\n",
       "      <td>20</td>\n",
       "      <td>RL</td>\n",
       "      <td>68.0</td>\n",
       "      <td>9717</td>\n",
       "      <td>Pave</td>\n",
       "      <td>NaN</td>\n",
       "      <td>Reg</td>\n",
       "      <td>Lvl</td>\n",
       "      <td>AllPub</td>\n",
       "      <td>...</td>\n",
       "      <td>0</td>\n",
       "      <td>NaN</td>\n",
       "      <td>NaN</td>\n",
       "      <td>NaN</td>\n",
       "      <td>0</td>\n",
       "      <td>4</td>\n",
       "      <td>2010</td>\n",
       "      <td>WD</td>\n",
       "      <td>Normal</td>\n",
       "      <td>142125</td>\n",
       "    </tr>\n",
       "    <tr>\n",
       "      <th>1459</th>\n",
       "      <td>1460</td>\n",
       "      <td>20</td>\n",
       "      <td>RL</td>\n",
       "      <td>75.0</td>\n",
       "      <td>9937</td>\n",
       "      <td>Pave</td>\n",
       "      <td>NaN</td>\n",
       "      <td>Reg</td>\n",
       "      <td>Lvl</td>\n",
       "      <td>AllPub</td>\n",
       "      <td>...</td>\n",
       "      <td>0</td>\n",
       "      <td>NaN</td>\n",
       "      <td>NaN</td>\n",
       "      <td>NaN</td>\n",
       "      <td>0</td>\n",
       "      <td>6</td>\n",
       "      <td>2008</td>\n",
       "      <td>WD</td>\n",
       "      <td>Normal</td>\n",
       "      <td>147500</td>\n",
       "    </tr>\n",
       "  </tbody>\n",
       "</table>\n",
       "<p>5 rows × 81 columns</p>\n",
       "</div>"
      ],
      "text/plain": [
       "        Id  MSSubClass MSZoning  LotFrontage  LotArea Street Alley LotShape  \\\n",
       "1455  1456          60       RL         62.0     7917   Pave   NaN      Reg   \n",
       "1456  1457          20       RL         85.0    13175   Pave   NaN      Reg   \n",
       "1457  1458          70       RL         66.0     9042   Pave   NaN      Reg   \n",
       "1458  1459          20       RL         68.0     9717   Pave   NaN      Reg   \n",
       "1459  1460          20       RL         75.0     9937   Pave   NaN      Reg   \n",
       "\n",
       "     LandContour Utilities    ...     PoolArea PoolQC  Fence MiscFeature  \\\n",
       "1455         Lvl    AllPub    ...            0    NaN    NaN         NaN   \n",
       "1456         Lvl    AllPub    ...            0    NaN  MnPrv         NaN   \n",
       "1457         Lvl    AllPub    ...            0    NaN  GdPrv        Shed   \n",
       "1458         Lvl    AllPub    ...            0    NaN    NaN         NaN   \n",
       "1459         Lvl    AllPub    ...            0    NaN    NaN         NaN   \n",
       "\n",
       "     MiscVal MoSold YrSold  SaleType  SaleCondition  SalePrice  \n",
       "1455       0      8   2007        WD         Normal     175000  \n",
       "1456       0      2   2010        WD         Normal     210000  \n",
       "1457    2500      5   2010        WD         Normal     266500  \n",
       "1458       0      4   2010        WD         Normal     142125  \n",
       "1459       0      6   2008        WD         Normal     147500  \n",
       "\n",
       "[5 rows x 81 columns]"
      ]
     },
     "execution_count": 4,
     "metadata": {},
     "output_type": "execute_result"
    }
   ],
   "source": [
    "dataset.tail()"
   ]
  },
  {
   "cell_type": "markdown",
   "metadata": {},
   "source": [
    "## Goal definition and analysis\n",
    "\n",
    "In this project, we are building a model which will predict **SalePrice** based on 80 features of the dataset using machine-learning regression techniques. "
   ]
  },
  {
   "cell_type": "markdown",
   "metadata": {},
   "source": [
    "### What is the target metric?"
   ]
  },
  {
   "cell_type": "code",
   "execution_count": 5,
   "metadata": {
    "collapsed": true
   },
   "outputs": [],
   "source": [
    "saleprice = dataset['SalePrice']"
   ]
  },
  {
   "cell_type": "code",
   "execution_count": 6,
   "metadata": {},
   "outputs": [
    {
     "data": {
      "image/png": "[encoded data removed]",
      "text/plain": [
       "<matplotlib.figure.Figure at 0x7f0b27393b38>"
      ]
     },
     "metadata": {},
     "output_type": "display_data"
    }
   ],
   "source": [
    "figsize(15, 6)\n",
    "plot_histogram_norm(saleprice, title='Sale price')"
   ]
  },
  {
   "cell_type": "markdown",
   "metadata": {},
   "source": [
    "## Features overview"
   ]
  },
  {
   "cell_type": "markdown",
   "metadata": {},
   "source": [
    "### Understanding type  of the features and missing data"
   ]
  },
  {
   "cell_type": "code",
   "execution_count": 7,
   "metadata": {},
   "outputs": [
    {
     "name": "stdout",
     "output_type": "stream",
     "text": [
      "Feature                       dtype       #missing  %missing   FeatureType                   \n",
      "\n",
      "Id                            int64              0       0.0%   Numeric   \n",
      "MSSubClass                    int64              0       0.0%   Categorical (15)\n",
      "MSZoning                      object             0       0.0%   Categorical (5)\n",
      "LotFrontage                   float64          259      17.7%   Numeric   \n",
      "LotArea                       int64              0       0.0%   Numeric   \n",
      "Street                        object             0       0.0%   Categorical (2)\n",
      "Alley                         object          1369      93.8%   Categorical (2)\n",
      "LotShape                      object             0       0.0%   Categorical (4)\n",
      "LandContour                   object             0       0.0%   Categorical (4)\n",
      "Utilities                     object             0       0.0%   Categorical (2)\n",
      "LotConfig                     object             0       0.0%   Categorical (5)\n",
      "LandSlope                     object             0       0.0%   Categorical (3)\n",
      "Neighborhood                  object             0       0.0%   Numeric   \n",
      "Condition1                    object             0       0.0%   Categorical (9)\n",
      "Condition2                    object             0       0.0%   Categorical (8)\n",
      "BldgType                      object             0       0.0%   Categorical (5)\n",
      "HouseStyle                    object             0       0.0%   Categorical (8)\n",
      "OverallQual                   int64              0       0.0%   Categorical (10)\n",
      "OverallCond                   int64              0       0.0%   Categorical (9)\n",
      "YearBuilt                     int64              0       0.0%   Numeric   \n",
      "YearRemodAdd                  int64              0       0.0%   Numeric   \n",
      "RoofStyle                     object             0       0.0%   Categorical (6)\n",
      "RoofMatl                      object             0       0.0%   Categorical (8)\n",
      "Exterior1st                   object             0       0.0%   Categorical (15)\n",
      "Exterior2nd                   object             0       0.0%   Categorical (16)\n",
      "MasVnrType                    object             8       0.5%   Categorical (4)\n",
      "MasVnrArea                    float64            8       0.5%   Numeric   \n",
      "ExterQual                     object             0       0.0%   Categorical (4)\n",
      "ExterCond                     object             0       0.0%   Categorical (5)\n",
      "Foundation                    object             0       0.0%   Categorical (6)\n",
      "BsmtQual                      object            37       2.5%   Categorical (4)\n",
      "BsmtCond                      object            37       2.5%   Categorical (4)\n",
      "BsmtExposure                  object            38       2.6%   Categorical (4)\n",
      "BsmtFinType1                  object            37       2.5%   Categorical (6)\n",
      "BsmtFinSF1                    int64              0       0.0%   Numeric   \n",
      "BsmtFinType2                  object            38       2.6%   Categorical (6)\n",
      "BsmtFinSF2                    int64              0       0.0%   Numeric   \n",
      "BsmtUnfSF                     int64              0       0.0%   Numeric   \n",
      "TotalBsmtSF                   int64              0       0.0%   Numeric   \n",
      "Heating                       object             0       0.0%   Categorical (6)\n",
      "HeatingQC                     object             0       0.0%   Categorical (5)\n",
      "CentralAir                    object             0       0.0%   Categorical (2)\n",
      "Electrical                    object             1       0.1%   Categorical (5)\n",
      "1stFlrSF                      int64              0       0.0%   Numeric   \n",
      "2ndFlrSF                      int64              0       0.0%   Numeric   \n",
      "LowQualFinSF                  int64              0       0.0%   Numeric   \n",
      "GrLivArea                     int64              0       0.0%   Numeric   \n",
      "BsmtFullBath                  int64              0       0.0%   Categorical (4)\n",
      "BsmtHalfBath                  int64              0       0.0%   Categorical (3)\n",
      "FullBath                      int64              0       0.0%   Categorical (4)\n",
      "HalfBath                      int64              0       0.0%   Categorical (3)\n",
      "BedroomAbvGr                  int64              0       0.0%   Categorical (8)\n",
      "KitchenAbvGr                  int64              0       0.0%   Categorical (4)\n",
      "KitchenQual                   object             0       0.0%   Categorical (4)\n",
      "TotRmsAbvGrd                  int64              0       0.0%   Categorical (12)\n",
      "Functional                    object             0       0.0%   Categorical (7)\n",
      "Fireplaces                    int64              0       0.0%   Categorical (4)\n",
      "FireplaceQu                   object           690      47.3%   Categorical (5)\n",
      "GarageType                    object            81       5.5%   Categorical (6)\n",
      "GarageYrBlt                   float64           81       5.5%   Numeric   \n",
      "GarageFinish                  object            81       5.5%   Categorical (3)\n",
      "GarageCars                    int64              0       0.0%   Categorical (5)\n",
      "GarageArea                    int64              0       0.0%   Numeric   \n",
      "GarageQual                    object            81       5.5%   Categorical (5)\n",
      "GarageCond                    object            81       5.5%   Categorical (5)\n",
      "PavedDrive                    object             0       0.0%   Categorical (3)\n",
      "WoodDeckSF                    int64              0       0.0%   Numeric   \n",
      "OpenPorchSF                   int64              0       0.0%   Numeric   \n",
      "EnclosedPorch                 int64              0       0.0%   Numeric   \n",
      "3SsnPorch                     int64              0       0.0%   Numeric   \n",
      "ScreenPorch                   int64              0       0.0%   Numeric   \n",
      "PoolArea                      int64              0       0.0%   Categorical (8)\n",
      "PoolQC                        object          1453      99.5%   Categorical (3)\n",
      "Fence                         object          1179      80.8%   Categorical (4)\n",
      "MiscFeature                   object          1406      96.3%   Categorical (4)\n",
      "MiscVal                       int64              0       0.0%   Numeric   \n",
      "MoSold                        int64              0       0.0%   Categorical (12)\n",
      "YrSold                        int64              0       0.0%   Categorical (5)\n",
      "SaleType                      object             0       0.0%   Categorical (9)\n",
      "SaleCondition                 object             0       0.0%   Categorical (6)\n",
      "SalePrice                     int64              0       0.0%   Numeric   \n"
     ]
    }
   ],
   "source": [
    "print_features_info(dataset)"
   ]
  },
  {
   "cell_type": "code",
   "execution_count": null,
   "metadata": {
    "collapsed": true
   },
   "outputs": [],
   "source": []
  }
 ],
 "metadata": {
  "kernelspec": {
   "display_name": "Python 3",
   "language": "python",
   "name": "python3"
  },
  "language_info": {
   "codemirror_mode": {
    "name": "ipython",
    "version": 3
   },
   "file_extension": ".py",
   "mimetype": "text/x-python",
   "name": "python",
   "nbconvert_exporter": "python",
   "pygments_lexer": "ipython3",
   "version": "3.6.0"
  }
 },
 "nbformat": 4,
 "nbformat_minor": 2
}
