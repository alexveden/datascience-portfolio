{
 "cells": [
  {
   "cell_type": "markdown",
   "metadata": {},
   "source": [
    "# Stage 7: Model selection\n",
    "\n",
    "In this stage, we are going to test and estimate several different models, and select the best of them for fine-tuning."
   ]
  },
  {
   "cell_type": "code",
   "execution_count": 1,
   "metadata": {},
   "outputs": [
    {
     "name": "stdout",
     "output_type": "stream",
     "text": [
      "Populating the interactive namespace from numpy and matplotlib\n"
     ]
    }
   ],
   "source": [
    "%pylab inline\n",
    "\n",
    "import pandas as pd\n",
    "import numpy as np"
   ]
  },
  {
   "cell_type": "markdown",
   "metadata": {},
   "source": [
    "# Preparing the data"
   ]
  },
  {
   "cell_type": "code",
   "execution_count": 2,
   "metadata": {
    "collapsed": true
   },
   "outputs": [],
   "source": [
    "dataset = pd.read_csv('data/house_prices.csv').set_index('Id')\n",
    "target_y = dataset['SalePrice']"
   ]
  },
  {
   "cell_type": "code",
   "execution_count": 3,
   "metadata": {
    "collapsed": true
   },
   "outputs": [],
   "source": [
    "#\n",
    "# We've saved base data processing/cleaning and splitting routines from Stage #3 to the common_data.py module\n",
    "#\n",
    "from common_data import data_train_test_split, data_process_and_clean_advanced_features"
   ]
  },
  {
   "cell_type": "markdown",
   "metadata": {},
   "source": [
    "### Cleaning the data using pre-saved data pipeline"
   ]
  },
  {
   "cell_type": "code",
   "execution_count": 4,
   "metadata": {},
   "outputs": [
    {
     "name": "stdout",
     "output_type": "stream",
     "text": [
      "Preparing the dataset with feature engineering\n"
     ]
    }
   ],
   "source": [
    "processed_dataset = data_process_and_clean_advanced_features(dataset, target_y)"
   ]
  },
  {
   "cell_type": "code",
   "execution_count": 5,
   "metadata": {},
   "outputs": [
    {
     "data": {
      "text/html": [
       "<div>\n",
       "<style>\n",
       "    .dataframe thead tr:only-child th {\n",
       "        text-align: right;\n",
       "    }\n",
       "\n",
       "    .dataframe thead th {\n",
       "        text-align: left;\n",
       "    }\n",
       "\n",
       "    .dataframe tbody tr th {\n",
       "        vertical-align: top;\n",
       "    }\n",
       "</style>\n",
       "<table border=\"1\" class=\"dataframe\">\n",
       "  <thead>\n",
       "    <tr style=\"text-align: right;\">\n",
       "      <th></th>\n",
       "      <th>KitchenAbvGr</th>\n",
       "      <th>HalfBath</th>\n",
       "      <th>Fireplaces</th>\n",
       "      <th>BsmtUnfSF</th>\n",
       "      <th>EnclosedPorch</th>\n",
       "      <th>GrLivArea</th>\n",
       "      <th>BsmtFinSF1</th>\n",
       "      <th>BsmtHalfBath</th>\n",
       "      <th>2ndFlrSF</th>\n",
       "      <th>GarageArea</th>\n",
       "      <th>...</th>\n",
       "      <th>!CentralAir</th>\n",
       "      <th>!Electrical</th>\n",
       "      <th>!KitchenQual</th>\n",
       "      <th>!FireplaceQu</th>\n",
       "      <th>!GarageQual</th>\n",
       "      <th>!GarageCond</th>\n",
       "      <th>!PavedDrive</th>\n",
       "      <th>!HouseAge</th>\n",
       "      <th>!LandQuality</th>\n",
       "      <th>!ExretiorScore</th>\n",
       "    </tr>\n",
       "    <tr>\n",
       "      <th>Id</th>\n",
       "      <th></th>\n",
       "      <th></th>\n",
       "      <th></th>\n",
       "      <th></th>\n",
       "      <th></th>\n",
       "      <th></th>\n",
       "      <th></th>\n",
       "      <th></th>\n",
       "      <th></th>\n",
       "      <th></th>\n",
       "      <th></th>\n",
       "      <th></th>\n",
       "      <th></th>\n",
       "      <th></th>\n",
       "      <th></th>\n",
       "      <th></th>\n",
       "      <th></th>\n",
       "      <th></th>\n",
       "      <th></th>\n",
       "      <th></th>\n",
       "      <th></th>\n",
       "    </tr>\n",
       "  </thead>\n",
       "  <tbody>\n",
       "    <tr>\n",
       "      <th>1</th>\n",
       "      <td>0.693147</td>\n",
       "      <td>0.693147</td>\n",
       "      <td>0.000000</td>\n",
       "      <td>5.017280</td>\n",
       "      <td>0.000000</td>\n",
       "      <td>7.444833</td>\n",
       "      <td>6.561031</td>\n",
       "      <td>0.000000</td>\n",
       "      <td>6.751101</td>\n",
       "      <td>6.308098</td>\n",
       "      <td>...</td>\n",
       "      <td>1</td>\n",
       "      <td>1</td>\n",
       "      <td>0.75</td>\n",
       "      <td>0.00</td>\n",
       "      <td>0.5</td>\n",
       "      <td>0.5</td>\n",
       "      <td>0.75</td>\n",
       "      <td>5</td>\n",
       "      <td>4.20</td>\n",
       "      <td>0.929985</td>\n",
       "    </tr>\n",
       "    <tr>\n",
       "      <th>2</th>\n",
       "      <td>0.693147</td>\n",
       "      <td>0.000000</td>\n",
       "      <td>0.693147</td>\n",
       "      <td>5.652489</td>\n",
       "      <td>0.000000</td>\n",
       "      <td>7.141245</td>\n",
       "      <td>6.886532</td>\n",
       "      <td>0.693147</td>\n",
       "      <td>0.000000</td>\n",
       "      <td>6.133398</td>\n",
       "      <td>...</td>\n",
       "      <td>1</td>\n",
       "      <td>1</td>\n",
       "      <td>0.50</td>\n",
       "      <td>0.50</td>\n",
       "      <td>0.5</td>\n",
       "      <td>0.5</td>\n",
       "      <td>0.75</td>\n",
       "      <td>31</td>\n",
       "      <td>4.40</td>\n",
       "      <td>0.519958</td>\n",
       "    </tr>\n",
       "    <tr>\n",
       "      <th>3</th>\n",
       "      <td>0.693147</td>\n",
       "      <td>0.693147</td>\n",
       "      <td>0.693147</td>\n",
       "      <td>6.075346</td>\n",
       "      <td>0.000000</td>\n",
       "      <td>7.488294</td>\n",
       "      <td>6.188264</td>\n",
       "      <td>0.000000</td>\n",
       "      <td>6.765039</td>\n",
       "      <td>6.411818</td>\n",
       "      <td>...</td>\n",
       "      <td>1</td>\n",
       "      <td>1</td>\n",
       "      <td>0.75</td>\n",
       "      <td>0.50</td>\n",
       "      <td>0.5</td>\n",
       "      <td>0.5</td>\n",
       "      <td>0.75</td>\n",
       "      <td>7</td>\n",
       "      <td>3.95</td>\n",
       "      <td>0.929985</td>\n",
       "    </tr>\n",
       "    <tr>\n",
       "      <th>4</th>\n",
       "      <td>0.693147</td>\n",
       "      <td>0.000000</td>\n",
       "      <td>0.693147</td>\n",
       "      <td>6.293419</td>\n",
       "      <td>5.609472</td>\n",
       "      <td>7.448916</td>\n",
       "      <td>5.379897</td>\n",
       "      <td>0.000000</td>\n",
       "      <td>6.629363</td>\n",
       "      <td>6.466145</td>\n",
       "      <td>...</td>\n",
       "      <td>1</td>\n",
       "      <td>1</td>\n",
       "      <td>0.75</td>\n",
       "      <td>0.75</td>\n",
       "      <td>0.5</td>\n",
       "      <td>0.5</td>\n",
       "      <td>0.75</td>\n",
       "      <td>91</td>\n",
       "      <td>4.05</td>\n",
       "      <td>0.538824</td>\n",
       "    </tr>\n",
       "    <tr>\n",
       "      <th>5</th>\n",
       "      <td>0.693147</td>\n",
       "      <td>0.693147</td>\n",
       "      <td>0.693147</td>\n",
       "      <td>6.196444</td>\n",
       "      <td>0.000000</td>\n",
       "      <td>7.695758</td>\n",
       "      <td>6.486161</td>\n",
       "      <td>0.000000</td>\n",
       "      <td>6.960348</td>\n",
       "      <td>6.729824</td>\n",
       "      <td>...</td>\n",
       "      <td>1</td>\n",
       "      <td>1</td>\n",
       "      <td>0.75</td>\n",
       "      <td>0.50</td>\n",
       "      <td>0.5</td>\n",
       "      <td>0.5</td>\n",
       "      <td>0.75</td>\n",
       "      <td>8</td>\n",
       "      <td>4.15</td>\n",
       "      <td>0.929985</td>\n",
       "    </tr>\n",
       "  </tbody>\n",
       "</table>\n",
       "<p>5 rows × 302 columns</p>\n",
       "</div>"
      ],
      "text/plain": [
       "    KitchenAbvGr  HalfBath  Fireplaces  BsmtUnfSF  EnclosedPorch  GrLivArea  \\\n",
       "Id                                                                            \n",
       "1       0.693147  0.693147    0.000000   5.017280       0.000000   7.444833   \n",
       "2       0.693147  0.000000    0.693147   5.652489       0.000000   7.141245   \n",
       "3       0.693147  0.693147    0.693147   6.075346       0.000000   7.488294   \n",
       "4       0.693147  0.000000    0.693147   6.293419       5.609472   7.448916   \n",
       "5       0.693147  0.693147    0.693147   6.196444       0.000000   7.695758   \n",
       "\n",
       "    BsmtFinSF1  BsmtHalfBath  2ndFlrSF  GarageArea       ...        \\\n",
       "Id                                                       ...         \n",
       "1     6.561031      0.000000  6.751101    6.308098       ...         \n",
       "2     6.886532      0.693147  0.000000    6.133398       ...         \n",
       "3     6.188264      0.000000  6.765039    6.411818       ...         \n",
       "4     5.379897      0.000000  6.629363    6.466145       ...         \n",
       "5     6.486161      0.000000  6.960348    6.729824       ...         \n",
       "\n",
       "    !CentralAir  !Electrical  !KitchenQual  !FireplaceQu  !GarageQual  \\\n",
       "Id                                                                      \n",
       "1             1            1          0.75          0.00          0.5   \n",
       "2             1            1          0.50          0.50          0.5   \n",
       "3             1            1          0.75          0.50          0.5   \n",
       "4             1            1          0.75          0.75          0.5   \n",
       "5             1            1          0.75          0.50          0.5   \n",
       "\n",
       "    !GarageCond  !PavedDrive  !HouseAge  !LandQuality  !ExretiorScore  \n",
       "Id                                                                     \n",
       "1           0.5         0.75          5          4.20        0.929985  \n",
       "2           0.5         0.75         31          4.40        0.519958  \n",
       "3           0.5         0.75          7          3.95        0.929985  \n",
       "4           0.5         0.75         91          4.05        0.538824  \n",
       "5           0.5         0.75          8          4.15        0.929985  \n",
       "\n",
       "[5 rows x 302 columns]"
      ]
     },
     "execution_count": 5,
     "metadata": {},
     "output_type": "execute_result"
    }
   ],
   "source": [
    "processed_dataset.head()"
   ]
  },
  {
   "cell_type": "markdown",
   "metadata": {},
   "source": [
    "### Do train/test splitting"
   ]
  },
  {
   "cell_type": "code",
   "execution_count": 6,
   "metadata": {},
   "outputs": [
    {
     "name": "stdout",
     "output_type": "stream",
     "text": [
      "Train dataset length: 1095  (75.0%)\n",
      "Test  dataset length: 365   (25.0%)\n"
     ]
    }
   ],
   "source": [
    "X_train, X_test, y_train, y_test = data_train_test_split(processed_dataset, target_y)\n",
    "\n",
    "print(f\"Train dataset length: {len(X_train):<5} ({len(X_train)/len(processed_dataset)*100:<2}%)\")\n",
    "print(f\"Test  dataset length: {len(X_test):<5} ({len(X_test)/len(processed_dataset)*100:<2}%)\")"
   ]
  },
  {
   "cell_type": "markdown",
   "metadata": {},
   "source": [
    "# Estimating performance of 3 generic models on the dataset"
   ]
  },
  {
   "cell_type": "code",
   "execution_count": 8,
   "metadata": {
    "collapsed": true
   },
   "outputs": [],
   "source": [
    "from common_models import model_base, calc_cross_val_scores"
   ]
  },
  {
   "cell_type": "markdown",
   "metadata": {},
   "source": [
    "## The base model (RandomForest)"
   ]
  },
  {
   "cell_type": "code",
   "execution_count": 11,
   "metadata": {},
   "outputs": [
    {
     "name": "stdout",
     "output_type": "stream",
     "text": [
      "[ 0.18179293  0.14199651  0.13649459  0.14021901  0.17790797  0.12321717\n",
      "  0.16219295  0.16327759  0.13761238  0.17653879]\n",
      "Mean: 0.15412498869804825\n",
      "StDev: 0.019651086743725222\n"
     ]
    },
    {
     "data": {
      "text/plain": [
       "0.15412498869804825"
      ]
     },
     "execution_count": 11,
     "metadata": {},
     "output_type": "execute_result"
    }
   ],
   "source": [
    "calc_cross_val_scores(model_base(), X_train, y_train)"
   ]
  },
  {
   "cell_type": "markdown",
   "metadata": {},
   "source": [
    "## Ridge regression model"
   ]
  },
  {
   "cell_type": "code",
   "execution_count": 12,
   "metadata": {},
   "outputs": [
    {
     "name": "stdout",
     "output_type": "stream",
     "text": [
      "[ 0.17709318  0.14334069  0.1246967   0.1380504   0.14722836  0.12656402\n",
      "  0.14324442  0.15597635  0.11926467  0.18440499]\n",
      "Mean: 0.1459863776315146\n",
      "StDev: 0.020413209245545506\n"
     ]
    },
    {
     "data": {
      "text/plain": [
       "0.14598637763151459"
      ]
     },
     "execution_count": 12,
     "metadata": {},
     "output_type": "execute_result"
    }
   ],
   "source": [
    "from sklearn.linear_model import Ridge\n",
    "\n",
    "model_ridge = Ridge()\n",
    "\n",
    "calc_cross_val_scores(model_ridge, X_train, y_train)"
   ]
  },
  {
   "cell_type": "markdown",
   "metadata": {},
   "source": [
    "## Lasso regression model"
   ]
  },
  {
   "cell_type": "code",
   "execution_count": 13,
   "metadata": {},
   "outputs": [
    {
     "name": "stdout",
     "output_type": "stream",
     "text": [
      "[ 0.37040863  0.31222252  0.29459575  0.33147569  0.35237585  0.2823137\n",
      "  0.34327353  0.30689178  0.29839396  0.33746527]\n",
      "Mean: 0.3229416680604874\n",
      "StDev: 0.026918107900728655\n"
     ]
    },
    {
     "data": {
      "text/plain": [
       "0.32294166806048741"
      ]
     },
     "execution_count": 13,
     "metadata": {},
     "output_type": "execute_result"
    }
   ],
   "source": [
    "from sklearn.linear_model import Lasso\n",
    "\n",
    "model_lasso = Lasso()\n",
    "\n",
    "calc_cross_val_scores(model_lasso, X_train, y_train)"
   ]
  },
  {
   "cell_type": "markdown",
   "metadata": {},
   "source": [
    "## Stochastic Gradient Descent - SGD"
   ]
  },
  {
   "cell_type": "code",
   "execution_count": 19,
   "metadata": {},
   "outputs": [
    {
     "name": "stdout",
     "output_type": "stream",
     "text": [
      "[  1.11766246e+12   1.52053516e+12   1.23507608e+12   2.16631464e+12\n",
      "   1.64606878e+12   4.02017727e+12   5.24217792e+11   2.91767432e+12\n",
      "   4.04727703e+11   1.76191015e+12]\n",
      "Mean: 1731436436131.9321\n",
      "StDev: 1035757434930.0978\n"
     ]
    },
    {
     "name": "stderr",
     "output_type": "stream",
     "text": [
      "/home/ubertrader/anaconda36/lib/python3.6/site-packages/sklearn/linear_model/stochastic_gradient.py:84: FutureWarning: max_iter and tol parameters have been added in <class 'sklearn.linear_model.stochastic_gradient.SGDRegressor'> in 0.19. If both are left unset, they default to max_iter=5 and tol=None. If tol is not None, max_iter defaults to max_iter=1000. From 0.21, default max_iter will be 1000, and default tol will be 1e-3.\n",
      "  \"and default tol will be 1e-3.\" % type(self), FutureWarning)\n"
     ]
    },
    {
     "data": {
      "text/plain": [
       "1731436436131.9321"
      ]
     },
     "execution_count": 19,
     "metadata": {},
     "output_type": "execute_result"
    }
   ],
   "source": [
    "from sklearn.linear_model import SGDRegressor\n",
    "\n",
    "model_sgd_regressor = SGDRegressor()\n",
    "\n",
    "calc_cross_val_scores(model_sgd_regressor, X_train, y_train)"
   ]
  },
  {
   "cell_type": "markdown",
   "metadata": {},
   "source": [
    "# Simple linear regression"
   ]
  },
  {
   "cell_type": "code",
   "execution_count": 16,
   "metadata": {},
   "outputs": [
    {
     "name": "stdout",
     "output_type": "stream",
     "text": [
      "[ 0.17779686  0.14320863  0.1226069   0.13939943  0.15139162  0.13565912\n",
      "  0.14321876  0.15422052  0.12368225  0.19589744]\n",
      "Mean: 0.1487081538181148\n",
      "StDev: 0.02176108425360529\n"
     ]
    },
    {
     "data": {
      "text/plain": [
       "0.14870815381811481"
      ]
     },
     "execution_count": 16,
     "metadata": {},
     "output_type": "execute_result"
    }
   ],
   "source": [
    "from sklearn.linear_model import LinearRegression\n",
    "\n",
    "model_lin_reg = LinearRegression()\n",
    "calc_cross_val_scores(model_lin_reg, X_train, y_train)"
   ]
  },
  {
   "cell_type": "markdown",
   "metadata": {},
   "source": [
    "# Conclusion\n",
    "\n",
    "We tried multiple models with default parameters to find TOP-3 candidates for fine-tuning. As you can see, the simple regression model shows the better results than RandomForest (base model). This might be strong evidence that features engineering have added extra value to the dataset. \n",
    "\n",
    "Models cross-validation scores summary (lower is better!):\n",
    "- Ridge regression model - 0.145\n",
    "- Simple linear regression - 0.148\n",
    "- Random Forest (base model) - 0.154\n",
    "\n",
    "Didn't pass:\n",
    "- Lasso regression model - 0.322\n",
    "- Stochastic Gradient Descent - 1731436436131.9321\n",
    "\n"
   ]
  },
  {
   "cell_type": "code",
   "execution_count": null,
   "metadata": {
    "collapsed": true
   },
   "outputs": [],
   "source": []
  }
 ],
 "metadata": {
  "kernelspec": {
   "display_name": "Python 3",
   "language": "python",
   "name": "python3"
  },
  "language_info": {
   "codemirror_mode": {
    "name": "ipython",
    "version": 3
   },
   "file_extension": ".py",
   "mimetype": "text/x-python",
   "name": "python",
   "nbconvert_exporter": "python",
   "pygments_lexer": "ipython3",
   "version": "3.6.0"
  }
 },
 "nbformat": 4,
 "nbformat_minor": 2
}
