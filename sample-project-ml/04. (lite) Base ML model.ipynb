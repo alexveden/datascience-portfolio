{
 "cells": [
  {
   "cell_type": "markdown",
   "metadata": {},
   "source": [
    "# Stage 4: Base machine-learning model\n",
    "\n",
    "In this stage, we are going to prepare and train very basic machine-learning model. We will take the results of the model as a reference point for further ML research. Later we can compare results of any ML model to the base to track the progress. "
   ]
  },
  {
   "cell_type": "code",
   "execution_count": 1,
   "metadata": {},
   "outputs": [
    {
     "name": "stdout",
     "output_type": "stream",
     "text": [
      "Populating the interactive namespace from numpy and matplotlib\n"
     ]
    }
   ],
   "source": [
    "%pylab inline\n",
    "\n",
    "import pandas as pd\n",
    "import numpy as np"
   ]
  },
  {
   "cell_type": "markdown",
   "metadata": {},
   "source": [
    "# Preparing the data"
   ]
  },
  {
   "cell_type": "code",
   "execution_count": 2,
   "metadata": {
    "collapsed": true
   },
   "outputs": [],
   "source": [
    "dataset = pd.read_csv('data/house_prices.csv').set_index('Id')\n",
    "target_y = dataset['SalePrice']"
   ]
  },
  {
   "cell_type": "code",
   "execution_count": 3,
   "metadata": {
    "collapsed": true
   },
   "outputs": [],
   "source": [
    "#\n",
    "# We've saved base data processing/cleaning and splitting routines from Stage #3 to the common_data.py module\n",
    "#\n",
    "from common_data import data_train_test_split, data_process_and_clean_basic"
   ]
  },
  {
   "cell_type": "markdown",
   "metadata": {},
   "source": [
    "### Cleaning the data using pre-saved data pipeline"
   ]
  },
  {
   "cell_type": "code",
   "execution_count": 4,
   "metadata": {
    "collapsed": true
   },
   "outputs": [],
   "source": [
    "processed_dataset = data_process_and_clean_basic(dataset)"
   ]
  },
  {
   "cell_type": "code",
   "execution_count": 5,
   "metadata": {},
   "outputs": [
    {
     "data": {
      "text/html": [
       "<div>\n",
       "<style>\n",
       "    .dataframe thead tr:only-child th {\n",
       "        text-align: right;\n",
       "    }\n",
       "\n",
       "    .dataframe thead th {\n",
       "        text-align: left;\n",
       "    }\n",
       "\n",
       "    .dataframe tbody tr th {\n",
       "        vertical-align: top;\n",
       "    }\n",
       "</style>\n",
       "<table border=\"1\" class=\"dataframe\">\n",
       "  <thead>\n",
       "    <tr style=\"text-align: right;\">\n",
       "      <th></th>\n",
       "      <th>Fireplaces</th>\n",
       "      <th>GarageArea</th>\n",
       "      <th>MoSold</th>\n",
       "      <th>PoolArea</th>\n",
       "      <th>ScreenPorch</th>\n",
       "      <th>BsmtFullBath</th>\n",
       "      <th>GarageCars</th>\n",
       "      <th>EnclosedPorch</th>\n",
       "      <th>MiscVal</th>\n",
       "      <th>KitchenAbvGr</th>\n",
       "      <th>...</th>\n",
       "      <th>SaleType_ConLw</th>\n",
       "      <th>SaleType_ConLI</th>\n",
       "      <th>SaleType_ConLD</th>\n",
       "      <th>SaleType_Oth</th>\n",
       "      <th>SaleCondition_Normal</th>\n",
       "      <th>SaleCondition_Abnorml</th>\n",
       "      <th>SaleCondition_AdjLand</th>\n",
       "      <th>SaleCondition_Alloca</th>\n",
       "      <th>SaleCondition_Family</th>\n",
       "      <th>SaleCondition_Partial</th>\n",
       "    </tr>\n",
       "    <tr>\n",
       "      <th>Id</th>\n",
       "      <th></th>\n",
       "      <th></th>\n",
       "      <th></th>\n",
       "      <th></th>\n",
       "      <th></th>\n",
       "      <th></th>\n",
       "      <th></th>\n",
       "      <th></th>\n",
       "      <th></th>\n",
       "      <th></th>\n",
       "      <th></th>\n",
       "      <th></th>\n",
       "      <th></th>\n",
       "      <th></th>\n",
       "      <th></th>\n",
       "      <th></th>\n",
       "      <th></th>\n",
       "      <th></th>\n",
       "      <th></th>\n",
       "      <th></th>\n",
       "      <th></th>\n",
       "    </tr>\n",
       "  </thead>\n",
       "  <tbody>\n",
       "    <tr>\n",
       "      <th>1</th>\n",
       "      <td>0.000000</td>\n",
       "      <td>6.308098</td>\n",
       "      <td>1.098612</td>\n",
       "      <td>0.0</td>\n",
       "      <td>0.0</td>\n",
       "      <td>0.693147</td>\n",
       "      <td>1.098612</td>\n",
       "      <td>0.000000</td>\n",
       "      <td>0.0</td>\n",
       "      <td>0.693147</td>\n",
       "      <td>...</td>\n",
       "      <td>0</td>\n",
       "      <td>0</td>\n",
       "      <td>0</td>\n",
       "      <td>0</td>\n",
       "      <td>1</td>\n",
       "      <td>0</td>\n",
       "      <td>0</td>\n",
       "      <td>0</td>\n",
       "      <td>0</td>\n",
       "      <td>0</td>\n",
       "    </tr>\n",
       "    <tr>\n",
       "      <th>2</th>\n",
       "      <td>0.693147</td>\n",
       "      <td>6.133398</td>\n",
       "      <td>1.791759</td>\n",
       "      <td>0.0</td>\n",
       "      <td>0.0</td>\n",
       "      <td>0.000000</td>\n",
       "      <td>1.098612</td>\n",
       "      <td>0.000000</td>\n",
       "      <td>0.0</td>\n",
       "      <td>0.693147</td>\n",
       "      <td>...</td>\n",
       "      <td>0</td>\n",
       "      <td>0</td>\n",
       "      <td>0</td>\n",
       "      <td>0</td>\n",
       "      <td>1</td>\n",
       "      <td>0</td>\n",
       "      <td>0</td>\n",
       "      <td>0</td>\n",
       "      <td>0</td>\n",
       "      <td>0</td>\n",
       "    </tr>\n",
       "    <tr>\n",
       "      <th>3</th>\n",
       "      <td>0.693147</td>\n",
       "      <td>6.411818</td>\n",
       "      <td>2.302585</td>\n",
       "      <td>0.0</td>\n",
       "      <td>0.0</td>\n",
       "      <td>0.693147</td>\n",
       "      <td>1.098612</td>\n",
       "      <td>0.000000</td>\n",
       "      <td>0.0</td>\n",
       "      <td>0.693147</td>\n",
       "      <td>...</td>\n",
       "      <td>0</td>\n",
       "      <td>0</td>\n",
       "      <td>0</td>\n",
       "      <td>0</td>\n",
       "      <td>1</td>\n",
       "      <td>0</td>\n",
       "      <td>0</td>\n",
       "      <td>0</td>\n",
       "      <td>0</td>\n",
       "      <td>0</td>\n",
       "    </tr>\n",
       "    <tr>\n",
       "      <th>4</th>\n",
       "      <td>0.693147</td>\n",
       "      <td>6.466145</td>\n",
       "      <td>1.098612</td>\n",
       "      <td>0.0</td>\n",
       "      <td>0.0</td>\n",
       "      <td>0.693147</td>\n",
       "      <td>1.386294</td>\n",
       "      <td>5.609472</td>\n",
       "      <td>0.0</td>\n",
       "      <td>0.693147</td>\n",
       "      <td>...</td>\n",
       "      <td>0</td>\n",
       "      <td>0</td>\n",
       "      <td>0</td>\n",
       "      <td>0</td>\n",
       "      <td>0</td>\n",
       "      <td>1</td>\n",
       "      <td>0</td>\n",
       "      <td>0</td>\n",
       "      <td>0</td>\n",
       "      <td>0</td>\n",
       "    </tr>\n",
       "    <tr>\n",
       "      <th>5</th>\n",
       "      <td>0.693147</td>\n",
       "      <td>6.729824</td>\n",
       "      <td>2.564949</td>\n",
       "      <td>0.0</td>\n",
       "      <td>0.0</td>\n",
       "      <td>0.693147</td>\n",
       "      <td>1.386294</td>\n",
       "      <td>0.000000</td>\n",
       "      <td>0.0</td>\n",
       "      <td>0.693147</td>\n",
       "      <td>...</td>\n",
       "      <td>0</td>\n",
       "      <td>0</td>\n",
       "      <td>0</td>\n",
       "      <td>0</td>\n",
       "      <td>1</td>\n",
       "      <td>0</td>\n",
       "      <td>0</td>\n",
       "      <td>0</td>\n",
       "      <td>0</td>\n",
       "      <td>0</td>\n",
       "    </tr>\n",
       "  </tbody>\n",
       "</table>\n",
       "<p>5 rows × 353 columns</p>\n",
       "</div>"
      ],
      "text/plain": [
       "    Fireplaces  GarageArea    MoSold  PoolArea  ScreenPorch  BsmtFullBath  \\\n",
       "Id                                                                          \n",
       "1     0.000000    6.308098  1.098612       0.0          0.0      0.693147   \n",
       "2     0.693147    6.133398  1.791759       0.0          0.0      0.000000   \n",
       "3     0.693147    6.411818  2.302585       0.0          0.0      0.693147   \n",
       "4     0.693147    6.466145  1.098612       0.0          0.0      0.693147   \n",
       "5     0.693147    6.729824  2.564949       0.0          0.0      0.693147   \n",
       "\n",
       "    GarageCars  EnclosedPorch  MiscVal  KitchenAbvGr          ...            \\\n",
       "Id                                                            ...             \n",
       "1     1.098612       0.000000      0.0      0.693147          ...             \n",
       "2     1.098612       0.000000      0.0      0.693147          ...             \n",
       "3     1.098612       0.000000      0.0      0.693147          ...             \n",
       "4     1.386294       5.609472      0.0      0.693147          ...             \n",
       "5     1.386294       0.000000      0.0      0.693147          ...             \n",
       "\n",
       "    SaleType_ConLw  SaleType_ConLI  SaleType_ConLD  SaleType_Oth  \\\n",
       "Id                                                                 \n",
       "1                0               0               0             0   \n",
       "2                0               0               0             0   \n",
       "3                0               0               0             0   \n",
       "4                0               0               0             0   \n",
       "5                0               0               0             0   \n",
       "\n",
       "    SaleCondition_Normal  SaleCondition_Abnorml  SaleCondition_AdjLand  \\\n",
       "Id                                                                       \n",
       "1                      1                      0                      0   \n",
       "2                      1                      0                      0   \n",
       "3                      1                      0                      0   \n",
       "4                      0                      1                      0   \n",
       "5                      1                      0                      0   \n",
       "\n",
       "    SaleCondition_Alloca  SaleCondition_Family  SaleCondition_Partial  \n",
       "Id                                                                     \n",
       "1                      0                     0                      0  \n",
       "2                      0                     0                      0  \n",
       "3                      0                     0                      0  \n",
       "4                      0                     0                      0  \n",
       "5                      0                     0                      0  \n",
       "\n",
       "[5 rows x 353 columns]"
      ]
     },
     "execution_count": 5,
     "metadata": {},
     "output_type": "execute_result"
    }
   ],
   "source": [
    "processed_dataset.head()"
   ]
  },
  {
   "cell_type": "markdown",
   "metadata": {},
   "source": [
    "### Do train/test splitting"
   ]
  },
  {
   "cell_type": "code",
   "execution_count": 6,
   "metadata": {},
   "outputs": [
    {
     "name": "stdout",
     "output_type": "stream",
     "text": [
      "Train dataset length: 1095  (75.0%)\n",
      "Test  dataset length: 365   (25.0%)\n"
     ]
    }
   ],
   "source": [
    "X_train, X_test, y_train, y_test = data_train_test_split(processed_dataset, target_y)\n",
    "\n",
    "print(f\"Train dataset length: {len(X_train):<5} ({len(X_train)/len(processed_dataset)*100:<2}%)\")\n",
    "print(f\"Test  dataset length: {len(X_test):<5} ({len(X_test)/len(processed_dataset)*100:<2}%)\")"
   ]
  },
  {
   "cell_type": "markdown",
   "metadata": {},
   "source": [
    "## Model estimation\n",
    "\n",
    "For initial model estimation, we will use cross-validation RMSE score. Cross-validation is an essential technique to prevent model overfitting. \n",
    "\n",
    "Learning the parameters of a prediction function and testing it on the same data is a methodological mistake: a model that would just repeat the labels of the samples that it has just seen would have a perfect score but would fail to predict anything useful on yet-unseen data. This situation is called **overfitting**. To avoid it, it is common practice when performing a (supervised) machine learning experiment to hold out part of the available data as a test set X_test, y_test. Note that the word “experiment” is not intended to denote academic use only, because even in commercial settings machine learning usually starts out experimentally."
   ]
  },
  {
   "cell_type": "code",
   "execution_count": 7,
   "metadata": {
    "collapsed": true
   },
   "outputs": [],
   "source": [
    "from sklearn.model_selection import cross_val_score\n",
    "from sklearn.metrics import mean_squared_error\n",
    "\n",
    "def calc_cross_val_scores(model, X, y, display=True):\n",
    "    \"\"\"\n",
    "    Displays model scores based on cross-validation method\n",
    "    \"\"\"    \n",
    "    scores = cross_val_score(model, X, y, scoring=\"neg_mean_squared_error\", cv=10)\n",
    "    rmse_scores = np.sqrt(-scores)\n",
    "\n",
    "    if display:\n",
    "        print(rmse_scores)\n",
    "        print(f'Mean: {np.mean(rmse_scores)}')\n",
    "        print(f'StDev: {np.std(rmse_scores)}')\n",
    "        \n",
    "    return np.mean(rmse_scores)\n",
    "\n",
    "def calc_score(model, X_train, y_train, X_test, y_test, display=True):\n",
    "    \"\"\"\n",
    "    Trains model on X_train dataset and displays its score on X_test dataset\n",
    "    \"\"\"\n",
    "    model.fit(X_train, y_train)\n",
    "    \n",
    "    predicted_y = model.predict(X_test)\n",
    "    \n",
    "    rmse_score = np.sqrt(mean_squared_error(y_test, predicted_y))\n",
    "    \n",
    "    if display:\n",
    "        print(f\"RMSE Score for test dataset: {rmse_score}\")\n",
    "    \n",
    "    return rmse_score\n",
    "    "
   ]
  },
  {
   "cell_type": "markdown",
   "metadata": {},
   "source": [
    "# Setting up simple RandomForest regression model"
   ]
  },
  {
   "cell_type": "code",
   "execution_count": 8,
   "metadata": {
    "collapsed": true
   },
   "outputs": [],
   "source": [
    "from sklearn.ensemble import RandomForestRegressor\n",
    "\n",
    "def model_base():\n",
    "    \"\"\"\n",
    "    Base model with will be used for results comparison and progress tracking\n",
    "    \"\"\"\n",
    "    model = RandomForestRegressor()\n",
    "    return model"
   ]
  },
  {
   "cell_type": "code",
   "execution_count": 9,
   "metadata": {},
   "outputs": [
    {
     "name": "stdout",
     "output_type": "stream",
     "text": [
      "Average cross-validation score\n",
      "\n",
      "[ 0.1870072   0.15468002  0.13999742  0.1512344   0.18055104  0.12990012\n",
      "  0.17344829  0.17515075  0.14832779  0.16994788]\n",
      "Mean: 0.16102449092265897\n",
      "StDev: 0.017883189822264015\n"
     ]
    },
    {
     "data": {
      "text/plain": [
       "0.16102449092265897"
      ]
     },
     "execution_count": 9,
     "metadata": {},
     "output_type": "execute_result"
    }
   ],
   "source": [
    "base_model = model_base()\n",
    "\n",
    "print('Average cross-validation score\\n')\n",
    "calc_cross_val_scores(base_model, X_train, y_train)"
   ]
  },
  {
   "cell_type": "markdown",
   "metadata": {},
   "source": [
    "# Estimating base model on the test data (final step)"
   ]
  },
  {
   "cell_type": "markdown",
   "metadata": {},
   "source": [
    "\n",
    "Estimation of the model on the test data is the last step of the ML research. It is very important to avoid repetitive evaluations based on test data to exclude model overfitting. Because of this, we are using cross-validation scores for model fine-tuning and the test dataset scores for model stability evaluation."
   ]
  },
  {
   "cell_type": "code",
   "execution_count": 10,
   "metadata": {},
   "outputs": [
    {
     "name": "stdout",
     "output_type": "stream",
     "text": [
      "RMSE Score for test dataset: 0.15165921337038135\n"
     ]
    }
   ],
   "source": [
    "calc_score(base_model, X_train, y_train, X_test, y_test);"
   ]
  },
  {
   "cell_type": "markdown",
   "metadata": {},
   "source": [
    "# Conclusion\n",
    "\n",
    "We have finished the first part of the research framework. We prepared the base for the future model improvement and feature engineering tasks. \n",
    "\n",
    "In the next stages of the project, we are going to improve the base score of the model by using feature engineering methods, fine-tuning model parameters. Also, we will train other models based on different mathematical principles than the base model. "
   ]
  }
 ],
 "metadata": {
  "kernelspec": {
   "display_name": "Python 3",
   "language": "python",
   "name": "python3"
  },
  "language_info": {
   "codemirror_mode": {
    "name": "ipython",
    "version": 3
   },
   "file_extension": ".py",
   "mimetype": "text/x-python",
   "name": "python",
   "nbconvert_exporter": "python",
   "pygments_lexer": "ipython3",
   "version": "3.6.0"
  }
 },
 "nbformat": 4,
 "nbformat_minor": 2
}
