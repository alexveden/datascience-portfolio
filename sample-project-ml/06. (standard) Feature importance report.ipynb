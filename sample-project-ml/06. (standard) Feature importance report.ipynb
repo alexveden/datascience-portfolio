{
 "cells": [
  {
   "cell_type": "markdown",
   "metadata": {},
   "source": [
    "# Stage 6: Feature importance report\n",
    "\n",
    "Feature importance report can help to reveal the non-linear features weights. "
   ]
  },
  {
   "cell_type": "code",
   "execution_count": 1,
   "metadata": {},
   "outputs": [
    {
     "name": "stdout",
     "output_type": "stream",
     "text": [
      "Populating the interactive namespace from numpy and matplotlib\n"
     ]
    }
   ],
   "source": [
    "%pylab inline\n",
    "\n",
    "import pandas as pd\n",
    "import numpy as np"
   ]
  },
  {
   "cell_type": "markdown",
   "metadata": {},
   "source": [
    "# Preparing the data"
   ]
  },
  {
   "cell_type": "code",
   "execution_count": 2,
   "metadata": {
    "collapsed": true
   },
   "outputs": [],
   "source": [
    "dataset = pd.read_csv('data/house_prices.csv').set_index('Id')\n",
    "target_y = dataset['SalePrice']"
   ]
  },
  {
   "cell_type": "code",
   "execution_count": 3,
   "metadata": {
    "collapsed": true
   },
   "outputs": [],
   "source": [
    "#\n",
    "# We've saved base data processing/cleaning and splitting routines from Stage #3 to the common_data.py module\n",
    "#\n",
    "from common_data import data_train_test_split, data_process_and_clean_advanced_features"
   ]
  },
  {
   "cell_type": "markdown",
   "metadata": {},
   "source": [
    "### Cleaning the data using pre-saved data pipeline"
   ]
  },
  {
   "cell_type": "code",
   "execution_count": 4,
   "metadata": {},
   "outputs": [
    {
     "name": "stdout",
     "output_type": "stream",
     "text": [
      "Preparing the dataset with feature engineering\n"
     ]
    }
   ],
   "source": [
    "processed_dataset = data_process_and_clean_advanced_features(dataset, target_y)"
   ]
  },
  {
   "cell_type": "code",
   "execution_count": 5,
   "metadata": {},
   "outputs": [
    {
     "data": {
      "text/html": [
       "<div>\n",
       "<style>\n",
       "    .dataframe thead tr:only-child th {\n",
       "        text-align: right;\n",
       "    }\n",
       "\n",
       "    .dataframe thead th {\n",
       "        text-align: left;\n",
       "    }\n",
       "\n",
       "    .dataframe tbody tr th {\n",
       "        vertical-align: top;\n",
       "    }\n",
       "</style>\n",
       "<table border=\"1\" class=\"dataframe\">\n",
       "  <thead>\n",
       "    <tr style=\"text-align: right;\">\n",
       "      <th></th>\n",
       "      <th>ScreenPorch</th>\n",
       "      <th>MoSold</th>\n",
       "      <th>GrLivArea</th>\n",
       "      <th>TotRmsAbvGrd</th>\n",
       "      <th>LotArea</th>\n",
       "      <th>BsmtHalfBath</th>\n",
       "      <th>HalfBath</th>\n",
       "      <th>2ndFlrSF</th>\n",
       "      <th>WoodDeckSF</th>\n",
       "      <th>YrSold</th>\n",
       "      <th>...</th>\n",
       "      <th>!CentralAir</th>\n",
       "      <th>!Electrical</th>\n",
       "      <th>!KitchenQual</th>\n",
       "      <th>!FireplaceQu</th>\n",
       "      <th>!GarageQual</th>\n",
       "      <th>!GarageCond</th>\n",
       "      <th>!PavedDrive</th>\n",
       "      <th>!HouseAge</th>\n",
       "      <th>!LandQuality</th>\n",
       "      <th>!ExretiorScore</th>\n",
       "    </tr>\n",
       "    <tr>\n",
       "      <th>Id</th>\n",
       "      <th></th>\n",
       "      <th></th>\n",
       "      <th></th>\n",
       "      <th></th>\n",
       "      <th></th>\n",
       "      <th></th>\n",
       "      <th></th>\n",
       "      <th></th>\n",
       "      <th></th>\n",
       "      <th></th>\n",
       "      <th></th>\n",
       "      <th></th>\n",
       "      <th></th>\n",
       "      <th></th>\n",
       "      <th></th>\n",
       "      <th></th>\n",
       "      <th></th>\n",
       "      <th></th>\n",
       "      <th></th>\n",
       "      <th></th>\n",
       "      <th></th>\n",
       "    </tr>\n",
       "  </thead>\n",
       "  <tbody>\n",
       "    <tr>\n",
       "      <th>1</th>\n",
       "      <td>0.0</td>\n",
       "      <td>1.098612</td>\n",
       "      <td>7.444833</td>\n",
       "      <td>2.197225</td>\n",
       "      <td>9.042040</td>\n",
       "      <td>0.000000</td>\n",
       "      <td>0.693147</td>\n",
       "      <td>6.751101</td>\n",
       "      <td>0.000000</td>\n",
       "      <td>7.605392</td>\n",
       "      <td>...</td>\n",
       "      <td>1</td>\n",
       "      <td>1</td>\n",
       "      <td>0.75</td>\n",
       "      <td>0.00</td>\n",
       "      <td>0.5</td>\n",
       "      <td>0.5</td>\n",
       "      <td>0.75</td>\n",
       "      <td>5</td>\n",
       "      <td>4.20</td>\n",
       "      <td>0.929985</td>\n",
       "    </tr>\n",
       "    <tr>\n",
       "      <th>2</th>\n",
       "      <td>0.0</td>\n",
       "      <td>1.791759</td>\n",
       "      <td>7.141245</td>\n",
       "      <td>1.945910</td>\n",
       "      <td>9.169623</td>\n",
       "      <td>0.693147</td>\n",
       "      <td>0.000000</td>\n",
       "      <td>0.000000</td>\n",
       "      <td>5.700444</td>\n",
       "      <td>7.604894</td>\n",
       "      <td>...</td>\n",
       "      <td>1</td>\n",
       "      <td>1</td>\n",
       "      <td>0.50</td>\n",
       "      <td>0.50</td>\n",
       "      <td>0.5</td>\n",
       "      <td>0.5</td>\n",
       "      <td>0.75</td>\n",
       "      <td>31</td>\n",
       "      <td>4.40</td>\n",
       "      <td>0.519958</td>\n",
       "    </tr>\n",
       "    <tr>\n",
       "      <th>3</th>\n",
       "      <td>0.0</td>\n",
       "      <td>2.302585</td>\n",
       "      <td>7.488294</td>\n",
       "      <td>1.945910</td>\n",
       "      <td>9.328212</td>\n",
       "      <td>0.000000</td>\n",
       "      <td>0.693147</td>\n",
       "      <td>6.765039</td>\n",
       "      <td>0.000000</td>\n",
       "      <td>7.605392</td>\n",
       "      <td>...</td>\n",
       "      <td>1</td>\n",
       "      <td>1</td>\n",
       "      <td>0.75</td>\n",
       "      <td>0.50</td>\n",
       "      <td>0.5</td>\n",
       "      <td>0.5</td>\n",
       "      <td>0.75</td>\n",
       "      <td>7</td>\n",
       "      <td>3.95</td>\n",
       "      <td>0.929985</td>\n",
       "    </tr>\n",
       "    <tr>\n",
       "      <th>4</th>\n",
       "      <td>0.0</td>\n",
       "      <td>1.098612</td>\n",
       "      <td>7.448916</td>\n",
       "      <td>2.079442</td>\n",
       "      <td>9.164401</td>\n",
       "      <td>0.000000</td>\n",
       "      <td>0.000000</td>\n",
       "      <td>6.629363</td>\n",
       "      <td>0.000000</td>\n",
       "      <td>7.604396</td>\n",
       "      <td>...</td>\n",
       "      <td>1</td>\n",
       "      <td>1</td>\n",
       "      <td>0.75</td>\n",
       "      <td>0.75</td>\n",
       "      <td>0.5</td>\n",
       "      <td>0.5</td>\n",
       "      <td>0.75</td>\n",
       "      <td>91</td>\n",
       "      <td>4.05</td>\n",
       "      <td>0.538824</td>\n",
       "    </tr>\n",
       "    <tr>\n",
       "      <th>5</th>\n",
       "      <td>0.0</td>\n",
       "      <td>2.564949</td>\n",
       "      <td>7.695758</td>\n",
       "      <td>2.302585</td>\n",
       "      <td>9.565284</td>\n",
       "      <td>0.000000</td>\n",
       "      <td>0.693147</td>\n",
       "      <td>6.960348</td>\n",
       "      <td>5.262690</td>\n",
       "      <td>7.605392</td>\n",
       "      <td>...</td>\n",
       "      <td>1</td>\n",
       "      <td>1</td>\n",
       "      <td>0.75</td>\n",
       "      <td>0.50</td>\n",
       "      <td>0.5</td>\n",
       "      <td>0.5</td>\n",
       "      <td>0.75</td>\n",
       "      <td>8</td>\n",
       "      <td>4.15</td>\n",
       "      <td>0.929985</td>\n",
       "    </tr>\n",
       "  </tbody>\n",
       "</table>\n",
       "<p>5 rows × 302 columns</p>\n",
       "</div>"
      ],
      "text/plain": [
       "    ScreenPorch    MoSold  GrLivArea  TotRmsAbvGrd   LotArea  BsmtHalfBath  \\\n",
       "Id                                                                           \n",
       "1           0.0  1.098612   7.444833      2.197225  9.042040      0.000000   \n",
       "2           0.0  1.791759   7.141245      1.945910  9.169623      0.693147   \n",
       "3           0.0  2.302585   7.488294      1.945910  9.328212      0.000000   \n",
       "4           0.0  1.098612   7.448916      2.079442  9.164401      0.000000   \n",
       "5           0.0  2.564949   7.695758      2.302585  9.565284      0.000000   \n",
       "\n",
       "    HalfBath  2ndFlrSF  WoodDeckSF    YrSold       ...        !CentralAir  \\\n",
       "Id                                                 ...                      \n",
       "1   0.693147  6.751101    0.000000  7.605392       ...                  1   \n",
       "2   0.000000  0.000000    5.700444  7.604894       ...                  1   \n",
       "3   0.693147  6.765039    0.000000  7.605392       ...                  1   \n",
       "4   0.000000  6.629363    0.000000  7.604396       ...                  1   \n",
       "5   0.693147  6.960348    5.262690  7.605392       ...                  1   \n",
       "\n",
       "    !Electrical  !KitchenQual  !FireplaceQu  !GarageQual  !GarageCond  \\\n",
       "Id                                                                      \n",
       "1             1          0.75          0.00          0.5          0.5   \n",
       "2             1          0.50          0.50          0.5          0.5   \n",
       "3             1          0.75          0.50          0.5          0.5   \n",
       "4             1          0.75          0.75          0.5          0.5   \n",
       "5             1          0.75          0.50          0.5          0.5   \n",
       "\n",
       "    !PavedDrive  !HouseAge  !LandQuality  !ExretiorScore  \n",
       "Id                                                        \n",
       "1          0.75          5          4.20        0.929985  \n",
       "2          0.75         31          4.40        0.519958  \n",
       "3          0.75          7          3.95        0.929985  \n",
       "4          0.75         91          4.05        0.538824  \n",
       "5          0.75          8          4.15        0.929985  \n",
       "\n",
       "[5 rows x 302 columns]"
      ]
     },
     "execution_count": 5,
     "metadata": {},
     "output_type": "execute_result"
    }
   ],
   "source": [
    "processed_dataset.head()"
   ]
  },
  {
   "cell_type": "markdown",
   "metadata": {},
   "source": [
    "### Do train/test splitting"
   ]
  },
  {
   "cell_type": "code",
   "execution_count": 6,
   "metadata": {},
   "outputs": [
    {
     "name": "stdout",
     "output_type": "stream",
     "text": [
      "Train dataset length: 1095  (75.0%)\n",
      "Test  dataset length: 365   (25.0%)\n"
     ]
    }
   ],
   "source": [
    "X_train, X_test, y_train, y_test = data_train_test_split(processed_dataset, target_y)\n",
    "\n",
    "print(f\"Train dataset length: {len(X_train):<5} ({len(X_train)/len(processed_dataset)*100:<2}%)\")\n",
    "print(f\"Test  dataset length: {len(X_test):<5} ({len(X_test)/len(processed_dataset)*100:<2}%)\")"
   ]
  },
  {
   "cell_type": "markdown",
   "metadata": {},
   "source": [
    "# Estimating feature importance"
   ]
  },
  {
   "cell_type": "code",
   "execution_count": 14,
   "metadata": {
    "collapsed": true
   },
   "outputs": [],
   "source": [
    "# This module is not included into the sample project\n",
    "from vizualization import plot_feature_importance"
   ]
  },
  {
   "cell_type": "code",
   "execution_count": 16,
   "metadata": {},
   "outputs": [
    {
     "data": {
      "image/png": "[encoded data removed]",
      "text/plain": [
       "<matplotlib.figure.Figure at 0x7fbb7406efd0>"
      ]
     },
     "metadata": {},
     "output_type": "display_data"
    }
   ],
   "source": [
    "figsize(10, 10)\n",
    "plot_feature_importance(X_train, y_train)"
   ]
  },
  {
   "cell_type": "markdown",
   "metadata": {},
   "source": [
    "# Conclusion\n",
    "\n",
    "Feature importance report is beneficial for the understanding of the dataset. Also, as you can see, we have many features which start with '!' mark on the graph, these features are custom features added at feature engineering phase of the project. This is the evidence that we succeed in adding new information to the ML model at feature engineering step.\n"
   ]
  },
  {
   "cell_type": "code",
   "execution_count": null,
   "metadata": {
    "collapsed": true
   },
   "outputs": [],
   "source": []
  }
 ],
 "metadata": {
  "kernelspec": {
   "display_name": "Python 3",
   "language": "python",
   "name": "python3"
  },
  "language_info": {
   "codemirror_mode": {
    "name": "ipython",
    "version": 3
   },
   "file_extension": ".py",
   "mimetype": "text/x-python",
   "name": "python",
   "nbconvert_exporter": "python",
   "pygments_lexer": "ipython3",
   "version": "3.6.0"
  }
 },
 "nbformat": 4,
 "nbformat_minor": 2
}
