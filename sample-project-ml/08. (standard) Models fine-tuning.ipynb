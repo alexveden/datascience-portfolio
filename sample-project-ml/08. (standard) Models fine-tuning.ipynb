{
 "cells": [
  {
   "cell_type": "markdown",
   "metadata": {},
   "source": [
    "# Stage 8: Models fine-tuning\n",
    "\n",
    "In the previous stage, we selected three best models for the dataset:\n",
    "\n",
    "Selected models:\n",
    "- Ridge regression model\n",
    "- Simple linear regression\n",
    "- Random Forest (base model)\n",
    "\n",
    "In this stage, we are going to optimize models' parameters to achieve the better score. "
   ]
  },
  {
   "cell_type": "code",
   "execution_count": 1,
   "metadata": {},
   "outputs": [
    {
     "name": "stdout",
     "output_type": "stream",
     "text": [
      "Populating the interactive namespace from numpy and matplotlib\n"
     ]
    }
   ],
   "source": [
    "%pylab inline\n",
    "\n",
    "import pandas as pd\n",
    "import numpy as np"
   ]
  },
  {
   "cell_type": "markdown",
   "metadata": {},
   "source": [
    "# Preparing the data"
   ]
  },
  {
   "cell_type": "code",
   "execution_count": 2,
   "metadata": {
    "collapsed": true
   },
   "outputs": [],
   "source": [
    "dataset = pd.read_csv('data/house_prices.csv').set_index('Id')\n",
    "target_y = dataset['SalePrice']"
   ]
  },
  {
   "cell_type": "code",
   "execution_count": 3,
   "metadata": {
    "collapsed": true
   },
   "outputs": [],
   "source": [
    "#\n",
    "# We've saved base data processing/cleaning and splitting routines from Stage #3 to the common_data.py module\n",
    "#\n",
    "from common_data import data_train_test_split, data_process_and_clean_advanced_features"
   ]
  },
  {
   "cell_type": "markdown",
   "metadata": {},
   "source": [
    "### Cleaning the data using pre-saved data pipeline"
   ]
  },
  {
   "cell_type": "code",
   "execution_count": 4,
   "metadata": {},
   "outputs": [
    {
     "name": "stdout",
     "output_type": "stream",
     "text": [
      "Preparing the dataset with feature engineering\n"
     ]
    }
   ],
   "source": [
    "processed_dataset = data_process_and_clean_advanced_features(dataset, target_y)"
   ]
  },
  {
   "cell_type": "code",
   "execution_count": 5,
   "metadata": {},
   "outputs": [
    {
     "data": {
      "text/html": [
       "<div>\n",
       "<style>\n",
       "    .dataframe thead tr:only-child th {\n",
       "        text-align: right;\n",
       "    }\n",
       "\n",
       "    .dataframe thead th {\n",
       "        text-align: left;\n",
       "    }\n",
       "\n",
       "    .dataframe tbody tr th {\n",
       "        vertical-align: top;\n",
       "    }\n",
       "</style>\n",
       "<table border=\"1\" class=\"dataframe\">\n",
       "  <thead>\n",
       "    <tr style=\"text-align: right;\">\n",
       "      <th></th>\n",
       "      <th>YrSold</th>\n",
       "      <th>BedroomAbvGr</th>\n",
       "      <th>HalfBath</th>\n",
       "      <th>GarageYrBlt</th>\n",
       "      <th>WoodDeckSF</th>\n",
       "      <th>FullBath</th>\n",
       "      <th>BsmtFinSF2</th>\n",
       "      <th>GrLivArea</th>\n",
       "      <th>YearRemodAdd</th>\n",
       "      <th>TotRmsAbvGrd</th>\n",
       "      <th>...</th>\n",
       "      <th>!CentralAir</th>\n",
       "      <th>!Electrical</th>\n",
       "      <th>!KitchenQual</th>\n",
       "      <th>!FireplaceQu</th>\n",
       "      <th>!GarageQual</th>\n",
       "      <th>!GarageCond</th>\n",
       "      <th>!PavedDrive</th>\n",
       "      <th>!HouseAge</th>\n",
       "      <th>!LandQuality</th>\n",
       "      <th>!ExretiorScore</th>\n",
       "    </tr>\n",
       "    <tr>\n",
       "      <th>Id</th>\n",
       "      <th></th>\n",
       "      <th></th>\n",
       "      <th></th>\n",
       "      <th></th>\n",
       "      <th></th>\n",
       "      <th></th>\n",
       "      <th></th>\n",
       "      <th></th>\n",
       "      <th></th>\n",
       "      <th></th>\n",
       "      <th></th>\n",
       "      <th></th>\n",
       "      <th></th>\n",
       "      <th></th>\n",
       "      <th></th>\n",
       "      <th></th>\n",
       "      <th></th>\n",
       "      <th></th>\n",
       "      <th></th>\n",
       "      <th></th>\n",
       "      <th></th>\n",
       "    </tr>\n",
       "  </thead>\n",
       "  <tbody>\n",
       "    <tr>\n",
       "      <th>1</th>\n",
       "      <td>7.605392</td>\n",
       "      <td>1.386294</td>\n",
       "      <td>0.693147</td>\n",
       "      <td>7.602900</td>\n",
       "      <td>0.000000</td>\n",
       "      <td>1.098612</td>\n",
       "      <td>0.0</td>\n",
       "      <td>7.444833</td>\n",
       "      <td>7.602900</td>\n",
       "      <td>2.197225</td>\n",
       "      <td>...</td>\n",
       "      <td>1</td>\n",
       "      <td>1</td>\n",
       "      <td>0.75</td>\n",
       "      <td>0.00</td>\n",
       "      <td>0.5</td>\n",
       "      <td>0.5</td>\n",
       "      <td>0.75</td>\n",
       "      <td>5</td>\n",
       "      <td>4.20</td>\n",
       "      <td>0.929985</td>\n",
       "    </tr>\n",
       "    <tr>\n",
       "      <th>2</th>\n",
       "      <td>7.604894</td>\n",
       "      <td>1.386294</td>\n",
       "      <td>0.000000</td>\n",
       "      <td>7.589336</td>\n",
       "      <td>5.700444</td>\n",
       "      <td>1.098612</td>\n",
       "      <td>0.0</td>\n",
       "      <td>7.141245</td>\n",
       "      <td>7.589336</td>\n",
       "      <td>1.945910</td>\n",
       "      <td>...</td>\n",
       "      <td>1</td>\n",
       "      <td>1</td>\n",
       "      <td>0.50</td>\n",
       "      <td>0.50</td>\n",
       "      <td>0.5</td>\n",
       "      <td>0.5</td>\n",
       "      <td>0.75</td>\n",
       "      <td>31</td>\n",
       "      <td>4.40</td>\n",
       "      <td>0.519958</td>\n",
       "    </tr>\n",
       "    <tr>\n",
       "      <th>3</th>\n",
       "      <td>7.605392</td>\n",
       "      <td>1.386294</td>\n",
       "      <td>0.693147</td>\n",
       "      <td>7.601902</td>\n",
       "      <td>0.000000</td>\n",
       "      <td>1.098612</td>\n",
       "      <td>0.0</td>\n",
       "      <td>7.488294</td>\n",
       "      <td>7.602401</td>\n",
       "      <td>1.945910</td>\n",
       "      <td>...</td>\n",
       "      <td>1</td>\n",
       "      <td>1</td>\n",
       "      <td>0.75</td>\n",
       "      <td>0.50</td>\n",
       "      <td>0.5</td>\n",
       "      <td>0.5</td>\n",
       "      <td>0.75</td>\n",
       "      <td>7</td>\n",
       "      <td>3.95</td>\n",
       "      <td>0.929985</td>\n",
       "    </tr>\n",
       "    <tr>\n",
       "      <th>4</th>\n",
       "      <td>7.604396</td>\n",
       "      <td>1.386294</td>\n",
       "      <td>0.000000</td>\n",
       "      <td>7.600402</td>\n",
       "      <td>0.000000</td>\n",
       "      <td>0.693147</td>\n",
       "      <td>0.0</td>\n",
       "      <td>7.448916</td>\n",
       "      <td>7.586296</td>\n",
       "      <td>2.079442</td>\n",
       "      <td>...</td>\n",
       "      <td>1</td>\n",
       "      <td>1</td>\n",
       "      <td>0.75</td>\n",
       "      <td>0.75</td>\n",
       "      <td>0.5</td>\n",
       "      <td>0.5</td>\n",
       "      <td>0.75</td>\n",
       "      <td>91</td>\n",
       "      <td>4.05</td>\n",
       "      <td>0.538824</td>\n",
       "    </tr>\n",
       "    <tr>\n",
       "      <th>5</th>\n",
       "      <td>7.605392</td>\n",
       "      <td>1.609438</td>\n",
       "      <td>0.693147</td>\n",
       "      <td>7.601402</td>\n",
       "      <td>5.262690</td>\n",
       "      <td>1.098612</td>\n",
       "      <td>0.0</td>\n",
       "      <td>7.695758</td>\n",
       "      <td>7.601402</td>\n",
       "      <td>2.302585</td>\n",
       "      <td>...</td>\n",
       "      <td>1</td>\n",
       "      <td>1</td>\n",
       "      <td>0.75</td>\n",
       "      <td>0.50</td>\n",
       "      <td>0.5</td>\n",
       "      <td>0.5</td>\n",
       "      <td>0.75</td>\n",
       "      <td>8</td>\n",
       "      <td>4.15</td>\n",
       "      <td>0.929985</td>\n",
       "    </tr>\n",
       "  </tbody>\n",
       "</table>\n",
       "<p>5 rows × 302 columns</p>\n",
       "</div>"
      ],
      "text/plain": [
       "      YrSold  BedroomAbvGr  HalfBath  GarageYrBlt  WoodDeckSF  FullBath  \\\n",
       "Id                                                                        \n",
       "1   7.605392      1.386294  0.693147     7.602900    0.000000  1.098612   \n",
       "2   7.604894      1.386294  0.000000     7.589336    5.700444  1.098612   \n",
       "3   7.605392      1.386294  0.693147     7.601902    0.000000  1.098612   \n",
       "4   7.604396      1.386294  0.000000     7.600402    0.000000  0.693147   \n",
       "5   7.605392      1.609438  0.693147     7.601402    5.262690  1.098612   \n",
       "\n",
       "    BsmtFinSF2  GrLivArea  YearRemodAdd  TotRmsAbvGrd       ...        \\\n",
       "Id                                                          ...         \n",
       "1          0.0   7.444833      7.602900      2.197225       ...         \n",
       "2          0.0   7.141245      7.589336      1.945910       ...         \n",
       "3          0.0   7.488294      7.602401      1.945910       ...         \n",
       "4          0.0   7.448916      7.586296      2.079442       ...         \n",
       "5          0.0   7.695758      7.601402      2.302585       ...         \n",
       "\n",
       "    !CentralAir  !Electrical  !KitchenQual  !FireplaceQu  !GarageQual  \\\n",
       "Id                                                                      \n",
       "1             1            1          0.75          0.00          0.5   \n",
       "2             1            1          0.50          0.50          0.5   \n",
       "3             1            1          0.75          0.50          0.5   \n",
       "4             1            1          0.75          0.75          0.5   \n",
       "5             1            1          0.75          0.50          0.5   \n",
       "\n",
       "    !GarageCond  !PavedDrive  !HouseAge  !LandQuality  !ExretiorScore  \n",
       "Id                                                                     \n",
       "1           0.5         0.75          5          4.20        0.929985  \n",
       "2           0.5         0.75         31          4.40        0.519958  \n",
       "3           0.5         0.75          7          3.95        0.929985  \n",
       "4           0.5         0.75         91          4.05        0.538824  \n",
       "5           0.5         0.75          8          4.15        0.929985  \n",
       "\n",
       "[5 rows x 302 columns]"
      ]
     },
     "execution_count": 5,
     "metadata": {},
     "output_type": "execute_result"
    }
   ],
   "source": [
    "processed_dataset.head()"
   ]
  },
  {
   "cell_type": "markdown",
   "metadata": {},
   "source": [
    "### Do train/test splitting"
   ]
  },
  {
   "cell_type": "code",
   "execution_count": 6,
   "metadata": {},
   "outputs": [
    {
     "name": "stdout",
     "output_type": "stream",
     "text": [
      "Train dataset length: 1095  (75.0%)\n",
      "Test  dataset length: 365   (25.0%)\n"
     ]
    }
   ],
   "source": [
    "X_train, X_test, y_train, y_test = data_train_test_split(processed_dataset, target_y)\n",
    "\n",
    "print(f\"Train dataset length: {len(X_train):<5} ({len(X_train)/len(processed_dataset)*100:<2}%)\")\n",
    "print(f\"Test  dataset length: {len(X_test):<5} ({len(X_test)/len(processed_dataset)*100:<2}%)\")"
   ]
  },
  {
   "cell_type": "markdown",
   "metadata": {},
   "source": [
    "# Tine-tuning of Top-3 selected models on the dataset"
   ]
  },
  {
   "cell_type": "code",
   "execution_count": 10,
   "metadata": {
    "collapsed": true
   },
   "outputs": [],
   "source": [
    "from common_models import model_base, calc_cross_val_scores\n",
    "from sklearn.model_selection import GridSearchCV"
   ]
  },
  {
   "cell_type": "markdown",
   "metadata": {},
   "source": [
    "# Random-Forest fine tuning"
   ]
  },
  {
   "cell_type": "code",
   "execution_count": 17,
   "metadata": {},
   "outputs": [
    {
     "data": {
      "text/plain": [
       "GridSearchCV(cv=10, error_score='raise',\n",
       "       estimator=RandomForestRegressor(bootstrap=True, criterion='mse', max_depth=None,\n",
       "           max_features='auto', max_leaf_nodes=None,\n",
       "           min_impurity_decrease=0.0, min_impurity_split=None,\n",
       "           min_samples_leaf=1, min_samples_split=2,\n",
       "           min_weight_fraction_leaf=0.0, n_estimators=10, n_jobs=1,\n",
       "           oob_score=False, random_state=None, verbose=0, warm_start=False),\n",
       "       fit_params=None, iid=True, n_jobs=-1,\n",
       "       param_grid={'n_estimators': [10, 50, 100, 500], 'max_depth': [None, 10, 20], 'min_samples_split': [2, 10, 30]},\n",
       "       pre_dispatch='2*n_jobs', refit=True, return_train_score=True,\n",
       "       scoring='neg_mean_squared_error', verbose=0)"
      ]
     },
     "execution_count": 17,
     "metadata": {},
     "output_type": "execute_result"
    }
   ],
   "source": [
    "from sklearn.ensemble import RandomForestRegressor\n",
    "model_rf = RandomForestRegressor()\n",
    "\n",
    "params = {\n",
    "    'n_estimators': [10, 50, 100, 500],    \n",
    "    \"max_depth\"         : [None, 10, 20],\n",
    "    \"min_samples_split\" : [2, 10, 30] ,    \n",
    "}\n",
    "\n",
    "gs_rf = GridSearchCV(model_rf, params, scoring='neg_mean_squared_error', cv=10, n_jobs=-1);\n",
    "gs_rf.fit(X_test, y_test);\n",
    "\n"
   ]
  },
  {
   "cell_type": "markdown",
   "metadata": {},
   "source": [
    "#### Random forest best parameters"
   ]
  },
  {
   "cell_type": "code",
   "execution_count": 20,
   "metadata": {},
   "outputs": [
    {
     "data": {
      "text/plain": [
       "{'max_depth': None, 'min_samples_split': 2, 'n_estimators': 100}"
      ]
     },
     "execution_count": 20,
     "metadata": {},
     "output_type": "execute_result"
    }
   ],
   "source": [
    "gs_rf.best_params_"
   ]
  },
  {
   "cell_type": "markdown",
   "metadata": {},
   "source": [
    "#### Random forest fine-tuned results"
   ]
  },
  {
   "cell_type": "code",
   "execution_count": 59,
   "metadata": {},
   "outputs": [
    {
     "name": "stdout",
     "output_type": "stream",
     "text": [
      "[ 0.1833977   0.14014802  0.13606827  0.14290902  0.1738149   0.12067485\n",
      "  0.16001325  0.16136104  0.13786819  0.17953466]\n",
      "Mean: 0.15357898987224577\n",
      "StDev: 0.020011698901411395\n"
     ]
    },
    {
     "data": {
      "text/plain": [
       "0.15357898987224577"
      ]
     },
     "execution_count": 59,
     "metadata": {},
     "output_type": "execute_result"
    }
   ],
   "source": [
    "calc_cross_val_scores(gs_rf.best_estimator_, X_train, y_train)"
   ]
  },
  {
   "cell_type": "markdown",
   "metadata": {},
   "source": [
    "## Ridge regression model"
   ]
  },
  {
   "cell_type": "code",
   "execution_count": 54,
   "metadata": {},
   "outputs": [],
   "source": [
    "from sklearn.linear_model import Ridge, RidgeCV\n",
    "\n",
    "model_ridge = Ridge(random_state=64)"
   ]
  },
  {
   "cell_type": "code",
   "execution_count": 47,
   "metadata": {},
   "outputs": [],
   "source": [
    "params = {\n",
    "    'alpha': (0.1, 1.0, 10.0, 20.0),\n",
    "    'fit_intercept': [False, True],\n",
    "    'normalize': [False, True],\n",
    "}\n",
    "\n",
    "gs_ridge = GridSearchCV(model_ridge, params, scoring='neg_mean_squared_error', cv=10, n_jobs=-1);\n",
    "gs_ridge.fit(X_train, y_train);"
   ]
  },
  {
   "cell_type": "markdown",
   "metadata": {},
   "source": [
    "#### Ridge regression best parameters"
   ]
  },
  {
   "cell_type": "code",
   "execution_count": 48,
   "metadata": {},
   "outputs": [
    {
     "data": {
      "text/plain": [
       "{'alpha': 10.0, 'fit_intercept': True, 'normalize': False}"
      ]
     },
     "execution_count": 48,
     "metadata": {},
     "output_type": "execute_result"
    }
   ],
   "source": [
    "gs_ridge.best_params_"
   ]
  },
  {
   "cell_type": "markdown",
   "metadata": {},
   "source": [
    "#### Ridge regression fine-tuned best scores"
   ]
  },
  {
   "cell_type": "code",
   "execution_count": 49,
   "metadata": {},
   "outputs": [
    {
     "name": "stdout",
     "output_type": "stream",
     "text": [
      "[ 0.17514978  0.14554207  0.12733676  0.13784514  0.14925007  0.11614012\n",
      "  0.14882291  0.15390988  0.12139653  0.17251344]\n",
      "Mean: 0.14479067004411728\n",
      "StDev: 0.01879126372853575\n"
     ]
    },
    {
     "data": {
      "text/plain": [
       "0.14479067004411728"
      ]
     },
     "execution_count": 49,
     "metadata": {},
     "output_type": "execute_result"
    }
   ],
   "source": [
    "calc_cross_val_scores(gs_ridge.best_estimator_, X_train, y_train)"
   ]
  },
  {
   "cell_type": "markdown",
   "metadata": {},
   "source": [
    "# Simple linear regression"
   ]
  },
  {
   "cell_type": "code",
   "execution_count": 55,
   "metadata": {},
   "outputs": [],
   "source": [
    "from sklearn.linear_model import LinearRegression\n",
    "\n",
    "model_lin_reg = LinearRegression()"
   ]
  },
  {
   "cell_type": "code",
   "execution_count": 56,
   "metadata": {
    "collapsed": true
   },
   "outputs": [],
   "source": [
    "params = {\n",
    "    'fit_intercept': [False, True],\n",
    "    'normalize': [False, True],\n",
    "}\n",
    "\n",
    "gs_lin_reg = GridSearchCV(model_lin_reg, params, scoring='neg_mean_squared_error', cv=10, n_jobs=-1);\n",
    "gs_lin_reg.fit(X_train, y_train);"
   ]
  },
  {
   "cell_type": "markdown",
   "metadata": {},
   "source": [
    "#### Linear regression best parameters"
   ]
  },
  {
   "cell_type": "code",
   "execution_count": 57,
   "metadata": {},
   "outputs": [
    {
     "data": {
      "text/plain": [
       "{'fit_intercept': True, 'normalize': False}"
      ]
     },
     "execution_count": 57,
     "metadata": {},
     "output_type": "execute_result"
    }
   ],
   "source": [
    "gs_lin_reg.best_params_"
   ]
  },
  {
   "cell_type": "markdown",
   "metadata": {},
   "source": [
    "#### Linear regression fine-tuned best scores"
   ]
  },
  {
   "cell_type": "code",
   "execution_count": 58,
   "metadata": {},
   "outputs": [
    {
     "name": "stdout",
     "output_type": "stream",
     "text": [
      "[ 0.17779686  0.14320863  0.1226069   0.13939943  0.15139162  0.13565912\n",
      "  0.14321876  0.15422052  0.12368225  0.19589744]\n",
      "Mean: 0.14870815381781669\n",
      "StDev: 0.021761084253865765\n"
     ]
    },
    {
     "data": {
      "text/plain": [
       "0.14870815381781669"
      ]
     },
     "execution_count": 58,
     "metadata": {},
     "output_type": "execute_result"
    }
   ],
   "source": [
    "calc_cross_val_scores(gs_lin_reg.best_estimator_, X_train, y_train)"
   ]
  },
  {
   "cell_type": "code",
   "execution_count": null,
   "metadata": {
    "collapsed": true
   },
   "outputs": [],
   "source": []
  }
 ],
 "metadata": {
  "kernelspec": {
   "display_name": "Python 3",
   "language": "python",
   "name": "python3"
  },
  "language_info": {
   "codemirror_mode": {
    "name": "ipython",
    "version": 3
   },
   "file_extension": ".py",
   "mimetype": "text/x-python",
   "name": "python",
   "nbconvert_exporter": "python",
   "pygments_lexer": "ipython3",
   "version": "3.6.0"
  }
 },
 "nbformat": 4,
 "nbformat_minor": 2
}
